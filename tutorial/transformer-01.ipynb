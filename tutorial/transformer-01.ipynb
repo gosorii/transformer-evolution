{
  "cells": [
    {
      "cell_type": "markdown",
      "metadata": {
        "colab_type": "text",
        "id": "kJIRBmDqBiKH"
      },
      "source": [
        "## Transformer 구현 과정 (1/2)\n",
        "![](https://raw.githubusercontent.com/paul-hyun/paul-hyun.github.io/master/assets/2019-12-19/transformer-model-architecture.png)\n",
        "\n",
        "Transformer 모델 구현에 대한 설명 입니다.\n",
        "\n",
        "이 내용을 확인하기 전 아래 내용을 확인하시기 바랍니다.\n",
        "- [Sentencepiece를 활용해 Vocab 만들기](https://paul-hyun.github.io/vocab-with-sentencepiece/)\n",
        "- [Naver 영화리뷰 감정분석 데이터 전처리 하기](https://paul-hyun.github.io/preprocess-nsmc/)\n",
        "\n",
        "[Colab](https://colab.research.google.com/)에서 실행 했습니다."
      ]
    },
    {
      "cell_type": "markdown",
      "metadata": {
        "colab_type": "text",
        "id": "ADHWimszCTQB"
      },
      "source": [
        "#### 0. Pip Install\n",
        "필요한 패키지를 pip를 이용해서 설치합니다."
      ]
    },
    {
      "cell_type": "code",
      "execution_count": 1,
      "metadata": {
        "colab": {
          "base_uri": "https://localhost:8080/",
          "height": 102
        },
        "colab_type": "code",
        "id": "GvyQ7eeZCV62",
        "outputId": "892adc2b-e3d2-495d-b96f-0ce3669558d5"
      },
      "outputs": [
        {
          "name": "stdout",
          "output_type": "stream",
          "text": [
            "Collecting sentencepiece\n",
            "  Using cached sentencepiece-0.1.96.tar.gz (508 kB)\n",
            "  Preparing metadata (setup.py) ... \u001b[?25ldone\n",
            "\u001b[?25hBuilding wheels for collected packages: sentencepiece\n",
            "  Building wheel for sentencepiece (setup.py) ... \u001b[?25ldone\n",
            "\u001b[?25h  Created wheel for sentencepiece: filename=sentencepiece-0.1.96-cp38-cp38-macosx_11_0_arm64.whl size=1102731 sha256=3710e9f46181cc73517dbfcc8cff334f3638a1353d76a08b364f3b91290ef7a4\n",
            "  Stored in directory: /Users/byungwook/Library/Caches/pip/wheels/94/fa/74/bdda662084a3f55d82c80c11c83265199254001a9f0b6bf164\n",
            "Successfully built sentencepiece\n",
            "Installing collected packages: sentencepiece\n",
            "Successfully installed sentencepiece-0.1.96\n"
          ]
        }
      ],
      "source": [
        "!pip install sentencepiece"
      ]
    },
    {
      "cell_type": "markdown",
      "metadata": {
        "colab_type": "text",
        "id": "FWT-P5l0CVde"
      },
      "source": [
        "#### 1. Google Drive Mount\n",
        "Colab에서는 컴퓨터에 자원에 접근이 불가능 하므로 Google Drive에 파일을 올려 놓은 후 Google Drive를 mount 에서 로컬 디스크처럼 사용 합니다.\n",
        "1. 아래 블럭을 실행하면 나타나는 링크를 클릭하세요.\n",
        "2. Google 계정을 선택 하시고 허용을 누르면 나타나는 코드를 복사하여 아래 박스에 입력한 후 Enter 키를 입력하면 됩니다.\n",
        "\n",
        "학습관련 [데이터 및 결과 파일](https://drive.google.com/open?id=15XGr-L-W6DSoR5TbniPMJASPsA0IDTiN)을 참고 하세요."
      ]
    },
    {
      "cell_type": "code",
      "execution_count": null,
      "metadata": {
        "colab": {
          "base_uri": "https://localhost:8080/",
          "height": 122
        },
        "colab_type": "code",
        "id": "88wMq4r-CdoG",
        "outputId": "3b5835e5-20d4-4fe1-ed10-acb7c192d726"
      },
      "outputs": [
        {
          "name": "stdout",
          "output_type": "stream",
          "text": [
            "Go to this URL in a browser: https://accounts.google.com/o/oauth2/auth?client_id=947318989803-6bn6qk8qdgf4n4g3pfee6491hc0brc4i.apps.googleusercontent.com&redirect_uri=urn%3aietf%3awg%3aoauth%3a2.0%3aoob&response_type=code&scope=email%20https%3a%2f%2fwww.googleapis.com%2fauth%2fdocs.test%20https%3a%2f%2fwww.googleapis.com%2fauth%2fdrive%20https%3a%2f%2fwww.googleapis.com%2fauth%2fdrive.photos.readonly%20https%3a%2f%2fwww.googleapis.com%2fauth%2fpeopleapi.readonly\n",
            "\n",
            "Enter your authorization code:\n",
            "··········\n",
            "Mounted at /content/drive\n"
          ]
        }
      ],
      "source": [
        "from google.colab import drive\n",
        "drive.mount('/content/drive')\n",
        "# data를 저장할 폴더 입니다. 환경에 맞게 수정 하세요.\n",
        "data_dir = \"/content/drive/My Drive/Data/transformer-evolution\""
      ]
    },
    {
      "cell_type": "markdown",
      "metadata": {
        "colab_type": "text",
        "id": "Mw-viWEe_-gb"
      },
      "source": [
        "#### 2. Imports"
      ]
    },
    {
      "cell_type": "code",
      "execution_count": 1,
      "metadata": {
        "colab": {},
        "colab_type": "code",
        "id": "AALbOYMx_-Fj"
      },
      "outputs": [],
      "source": [
        "import os\n",
        "import numpy as np\n",
        "import math\n",
        "import matplotlib.pyplot as plt\n",
        "import sentencepiece as spm\n",
        "\n",
        "import torch\n",
        "import torch.nn as nn\n",
        "import torch.nn.functional as F"
      ]
    },
    {
      "cell_type": "markdown",
      "metadata": {
        "colab_type": "text",
        "id": "kOnh3BmoCzgh"
      },
      "source": [
        "#### 3. 폴더의 목록을 확인\n",
        "Google Drive mount가 잘 되었는지 확인하기 위해 data_dir 목록을 확인 합니다."
      ]
    },
    {
      "cell_type": "code",
      "execution_count": null,
      "metadata": {
        "colab": {
          "base_uri": "https://localhost:8080/",
          "height": 136
        },
        "colab_type": "code",
        "id": "AtSMyMiqC1Zz",
        "outputId": "29803586-aeb3-44d0-e5a7-20b7e1047625"
      },
      "outputs": [
        {
          "name": "stdout",
          "output_type": "stream",
          "text": [
            "kowiki.csv.gz\n",
            "kowiki.model\n",
            "kowiki.vocab\n",
            "ratings_train.txt\n",
            "ratings_test.txt\n",
            "ratings_train.json\n",
            "ratings_test.json\n"
          ]
        }
      ],
      "source": [
        "for f in os.listdir(data_dir):\n",
        "  print(f)"
      ]
    },
    {
      "cell_type": "markdown",
      "metadata": {
        "colab_type": "text",
        "id": "8Ly5K7I8DMy0"
      },
      "source": [
        "#### 4. Vocab 및 입력\n",
        "[Sentencepiece를 활용해 Vocab 만들기](https://paul-hyun.github.io/vocab-with-sentencepiece/)를 통해 만들어 놓은 vocab을 로딩 합니다.\n",
        "\n",
        "로딩된 vocab을 이용해 input을 만듭니다."
      ]
    },
    {
      "cell_type": "code",
      "execution_count": 3,
      "metadata": {
        "colab": {
          "base_uri": "https://localhost:8080/",
          "height": 102
        },
        "colab_type": "code",
        "id": "S-ubyeJFDbot",
        "outputId": "140e36f4-838c-4eb2-c490-328821139c63"
      },
      "outputs": [
        {
          "name": "stdout",
          "output_type": "stream",
          "text": [
            "['▁겨울', '은', '▁추', '워', '요', '.']\n",
            "['▁감', '기', '▁조', '심', '하', '세', '요', '.']\n",
            "torch.Size([2, 8])\n",
            "tensor([[3205, 3577,  196, 3929, 3733, 3563,    0,    0],\n",
            "        [ 201, 3579,   53, 3806, 3569, 3656, 3733, 3563]])\n"
          ]
        }
      ],
      "source": [
        "# vocab loading\n",
        "# get current file path\n",
        "vocab_file = \"/Users/byungwook/Codes/vscode/transformer-evolution/_data/kowiki/kowiki.model\"\n",
        "vocab = spm.SentencePieceProcessor()\n",
        "vocab.load(vocab_file)\n",
        "\n",
        "# 입력 texts\n",
        "lines = [\n",
        "  \"겨울은 추워요.\",\n",
        "  \"감기 조심하세요.\"\n",
        "]\n",
        "\n",
        "# text를 tensor로 변환\n",
        "inputs = []\n",
        "for line in lines:\n",
        "  pieces = vocab.encode_as_pieces(line)\n",
        "  ids = vocab.encode_as_ids(line)\n",
        "  inputs.append(torch.tensor(ids))\n",
        "  print(pieces)\n",
        "\n",
        "# 입력 길이가 다르므로 입력 최대 길이에 맟춰 padding(0)을 추가 해 줌\n",
        "inputs = torch.nn.utils.rnn.pad_sequence(inputs, batch_first=True, padding_value=0)\n",
        "# shape\n",
        "print(inputs.size())\n",
        "# 값\n",
        "print(inputs)"
      ]
    },
    {
      "cell_type": "markdown",
      "metadata": {
        "colab_type": "text",
        "id": "wOqt_-1p_Z2L"
      },
      "source": [
        "#### 5. Embedding"
      ]
    },
    {
      "cell_type": "markdown",
      "metadata": {
        "colab_type": "text",
        "id": "aAz1I-mG_dSQ"
      },
      "source": [
        "###### - Input Embedding"
      ]
    },
    {
      "cell_type": "code",
      "execution_count": 4,
      "metadata": {
        "colab": {
          "base_uri": "https://localhost:8080/",
          "height": 34
        },
        "colab_type": "code",
        "id": "7bjcpE8Z-208",
        "outputId": "b237843e-2451-4ce6-edc6-40ba85aab05a"
      },
      "outputs": [
        {
          "name": "stdout",
          "output_type": "stream",
          "text": [
            "torch.Size([2, 8, 128])\n"
          ]
        }
      ],
      "source": [
        "n_vocab = len(vocab) # vocab count\n",
        "d_hidn = 128 # hidden size\n",
        "nn_emb = nn.Embedding(n_vocab, d_hidn) # embedding 객체\n",
        "\n",
        "input_embs = nn_emb(inputs) # input embedding\n",
        "print(input_embs.size())"
      ]
    },
    {
      "cell_type": "markdown",
      "metadata": {
        "colab_type": "text",
        "id": "EBriAmpB_cHQ"
      },
      "source": [
        "###### - Position Embedding"
      ]
    },
    {
      "cell_type": "code",
      "execution_count": 5,
      "metadata": {
        "colab": {},
        "colab_type": "code",
        "id": "NlCmyZrkPuOX"
      },
      "outputs": [],
      "source": [
        "\"\"\" sinusoid position embedding \"\"\"\n",
        "def get_sinusoid_encoding_table(n_seq, d_hidn):\n",
        "    def cal_angle(position, i_hidn):\n",
        "        return position / np.power(10000, 2 * (i_hidn // 2) / d_hidn)\n",
        "    def get_posi_angle_vec(position):\n",
        "        return [cal_angle(position, i_hidn) for i_hidn in range(d_hidn)]\n",
        "\n",
        "    sinusoid_table = np.array([get_posi_angle_vec(i_seq) for i_seq in range(n_seq)])\n",
        "    sinusoid_table[:, 0::2] = np.sin(sinusoid_table[:, 0::2])  # dim 2i\n",
        "    sinusoid_table[:, 1::2] = np.cos(sinusoid_table[:, 1::2])  # dim 2i+1\n",
        "\n",
        "    return sinusoid_table"
      ]
    },
    {
      "cell_type": "code",
      "execution_count": 6,
      "metadata": {
        "colab": {
          "base_uri": "https://localhost:8080/",
          "height": 300
        },
        "colab_type": "code",
        "id": "x_MrxrxqVyra",
        "outputId": "4559b7b0-5e95-4aef-9587-087eb036bb89"
      },
      "outputs": [
        {
          "name": "stdout",
          "output_type": "stream",
          "text": [
            "(64, 128)\n"
          ]
        },
        {
          "data": {
            "image/png": "[encoded data removed]",
            "text/plain": [
              "<Figure size 432x288 with 2 Axes>"
            ]
          },
          "metadata": {
            "needs_background": "light"
          },
          "output_type": "display_data"
        }
      ],
      "source": [
        "n_seq = 64\n",
        "pos_encoding = get_sinusoid_encoding_table(n_seq, d_hidn)\n",
        "\n",
        "print (pos_encoding.shape) # 크기 출력\n",
        "plt.pcolormesh(pos_encoding, cmap='RdBu')\n",
        "plt.xlabel('Depth')\n",
        "plt.xlim((0, d_hidn))\n",
        "plt.ylabel('Position')\n",
        "plt.colorbar()\n",
        "plt.show()"
      ]
    },
    {
      "cell_type": "code",
      "execution_count": 7,
      "metadata": {
        "colab": {
          "base_uri": "https://localhost:8080/",
          "height": 102
        },
        "colab_type": "code",
        "id": "GmeDRFKqikMy",
        "outputId": "f2ccb64e-8c2f-4468-e70e-58becf9a9965"
      },
      "outputs": [
        {
          "name": "stdout",
          "output_type": "stream",
          "text": [
            "tensor([[3205, 3577,  196, 3929, 3733, 3563,    0,    0],\n",
            "        [ 201, 3579,   53, 3806, 3569, 3656, 3733, 3563]])\n",
            "tensor([[1, 2, 3, 4, 5, 6, 0, 0],\n",
            "        [1, 2, 3, 4, 5, 6, 7, 8]])\n",
            "torch.Size([2, 8, 128])\n"
          ]
        }
      ],
      "source": [
        "pos_encoding = torch.FloatTensor(pos_encoding)\n",
        "nn_pos = nn.Embedding.from_pretrained(pos_encoding, freeze=True)\n",
        "\n",
        "positions = torch.arange(inputs.size(1), device=inputs.device, dtype=inputs.dtype).expand(inputs.size(0), inputs.size(1)).contiguous() + 1\n",
        "pos_mask = inputs.eq(0)\n",
        "\n",
        "positions.masked_fill_(pos_mask, 0)\n",
        "pos_embs = nn_pos(positions) # position embedding\n",
        "\n",
        "print(inputs)\n",
        "print(positions)\n",
        "print(pos_embs.size())"
      ]
    },
    {
      "cell_type": "code",
      "execution_count": 8,
      "metadata": {
        "colab": {},
        "colab_type": "code",
        "id": "ZX63wiFfruY7"
      },
      "outputs": [],
      "source": [
        "input_sums = input_embs + pos_embs"
      ]
    },
    {
      "cell_type": "markdown",
      "metadata": {
        "colab_type": "text",
        "id": "rOYl2XUyt2xc"
      },
      "source": [
        "#### 6. Scale Dot Product Attention\n",
        "\n",
        "![](https://raw.githubusercontent.com/paul-hyun/paul-hyun.github.io/master/assets/2019-12-19/scale_dot_product_attention.png)"
      ]
    },
    {
      "cell_type": "markdown",
      "metadata": {
        "colab_type": "text",
        "id": "Exfnhn9vA1fl"
      },
      "source": [
        "###### Input"
      ]
    },
    {
      "cell_type": "code",
      "execution_count": 22,
      "metadata": {
        "colab": {
          "base_uri": "https://localhost:8080/",
          "height": 170
        },
        "colab_type": "code",
        "id": "aaUTzxeSunt9",
        "outputId": "674683f7-1161-485a-f437-551381d8cdf6"
      },
      "outputs": [
        {
          "name": "stdout",
          "output_type": "stream",
          "text": [
            "128\n",
            "torch.Size([2, 8, 8])\n",
            "tensor([[False, False, False, False, False, False,  True,  True],\n",
            "        [False, False, False, False, False, False,  True,  True],\n",
            "        [False, False, False, False, False, False,  True,  True],\n",
            "        [False, False, False, False, False, False,  True,  True],\n",
            "        [False, False, False, False, False, False,  True,  True],\n",
            "        [False, False, False, False, False, False,  True,  True],\n",
            "        [False, False, False, False, False, False,  True,  True],\n",
            "        [False, False, False, False, False, False,  True,  True]])\n"
          ]
        }
      ],
      "source": [
        "Q = input_sums\n",
        "K = input_sums\n",
        "V = input_sums\n",
        "print(K.size(2))\n",
        "attn_mask = inputs.eq(0).unsqueeze(1).expand(Q.size(0), Q.size(1), K.size(1))\n",
        "print(attn_mask.size())\n",
        "print(attn_mask[0])"
      ]
    },
    {
      "cell_type": "code",
      "execution_count": 14,
      "metadata": {},
      "outputs": [
        {
          "name": "stdout",
          "output_type": "stream",
          "text": [
            "tensor([[[False, False, False, False, False, False,  True,  True]],\n",
            "\n",
            "        [[False, False, False, False, False, False, False, False]]])\n"
          ]
        }
      ],
      "source": [
        "print(inputs.eq(0).unsqueeze(1))"
      ]
    },
    {
      "cell_type": "markdown",
      "metadata": {
        "colab_type": "text",
        "id": "st1N5098A7e1"
      },
      "source": [
        "##### Q * K-transpose"
      ]
    },
    {
      "cell_type": "code",
      "execution_count": 26,
      "metadata": {
        "colab": {
          "base_uri": "https://localhost:8080/",
          "height": 306
        },
        "colab_type": "code",
        "id": "DQmtb8hcxK1k",
        "outputId": "8f446a21-98c6-46c0-9713-a7af67446c22"
      },
      "outputs": [
        {
          "name": "stdout",
          "output_type": "stream",
          "text": [
            "torch.Size([2, 8, 8])\n",
            "tensor([[216.1249,  70.5508,  55.5360,  56.6154,  73.0909,  61.5681,  66.8608,\n",
            "          66.8608],\n",
            "        [ 70.5508, 174.1238,  61.9568,  64.1468,  63.3292,  57.4110,  44.0897,\n",
            "          44.0897],\n",
            "        [ 55.5360,  61.9568, 163.1032,  61.9124,  79.4910,  43.9295,  32.0808,\n",
            "          32.0808],\n",
            "        [ 56.6154,  64.1468,  61.9124, 207.3697,  76.9481,  78.8776,  48.7467,\n",
            "          48.7467],\n",
            "        [ 73.0909,  63.3292,  79.4910,  76.9481, 187.2302, 110.2944,  59.7992,\n",
            "          59.7992],\n",
            "        [ 61.5681,  57.4110,  43.9295,  78.8776, 110.2944, 217.4121,  56.4605,\n",
            "          56.4605],\n",
            "        [ 66.8608,  44.0897,  32.0808,  48.7467,  59.7992,  56.4605, 176.0454,\n",
            "         176.0454],\n",
            "        [ 66.8608,  44.0897,  32.0808,  48.7467,  59.7992,  56.4605, 176.0454,\n",
            "         176.0454]], grad_fn=<SelectBackward>)\n"
          ]
        }
      ],
      "source": [
        "scores = torch.matmul(Q, K.transpose(-1, -2))\n",
        "print(scores.size())\n",
        "print(scores[0])"
      ]
    },
    {
      "cell_type": "markdown",
      "metadata": {
        "colab_type": "text",
        "id": "2e7jrCXpBCyS"
      },
      "source": [
        "###### Scale"
      ]
    },
    {
      "cell_type": "code",
      "execution_count": null,
      "metadata": {
        "colab": {
          "base_uri": "https://localhost:8080/",
          "height": 187
        },
        "colab_type": "code",
        "id": "tS_LXRbY5hcK",
        "outputId": "67123751-e82b-4a84-d861-5df6a037b7e3"
      },
      "outputs": [
        {
          "name": "stdout",
          "output_type": "stream",
          "text": [
            "torch.Size([2, 8, 8])\n",
            "tensor([[31.3476, -0.1451, -1.4832, -2.8843, -1.2542,  0.8314, -5.7174, -5.7174],\n",
            "        [-0.1451, 27.8460,  4.9304,  0.8781,  1.5047,  1.6372,  0.5585,  0.5585],\n",
            "        [-1.4832,  4.9304, 26.8313,  3.9618,  2.1587,  3.5587,  3.0447,  3.0447],\n",
            "        [-2.8843,  0.8781,  3.9618, 27.9037,  1.6892,  4.0453,  4.7429,  4.7429],\n",
            "        [-1.2542,  1.5047,  2.1587,  1.6892, 32.0763,  4.0136, -1.1263, -1.1263],\n",
            "        [ 0.8314,  1.6372,  3.5587,  4.0453,  4.0136, 38.0982, -2.7216, -2.7216],\n",
            "        [-5.7174,  0.5585,  3.0447,  4.7429, -1.1263, -2.7216, 56.9788, 56.9788],\n",
            "        [-5.7174,  0.5585,  3.0447,  4.7429, -1.1263, -2.7216, 56.9788, 56.9788]],\n",
            "       grad_fn=<SelectBackward>)\n"
          ]
        }
      ],
      "source": [
        "d_head = 64\n",
        "scores = scores.mul_(1/d_head**0.5)\n",
        "print(scores.size())\n",
        "print(scores[0])"
      ]
    },
    {
      "cell_type": "markdown",
      "metadata": {
        "colab_type": "text",
        "id": "lnQ7phqTBGJG"
      },
      "source": [
        "###### Mask (Opt.)"
      ]
    },
    {
      "cell_type": "code",
      "execution_count": null,
      "metadata": {
        "colab": {
          "base_uri": "https://localhost:8080/",
          "height": 306
        },
        "colab_type": "code",
        "id": "BENnRJdKxits",
        "outputId": "ee834637-15cf-4ec7-8f66-26716e903c43"
      },
      "outputs": [
        {
          "name": "stdout",
          "output_type": "stream",
          "text": [
            "torch.Size([2, 8, 8])\n",
            "tensor([[ 3.1348e+01, -1.4505e-01, -1.4832e+00, -2.8843e+00, -1.2542e+00,\n",
            "          8.3138e-01, -1.0000e+09, -1.0000e+09],\n",
            "        [-1.4505e-01,  2.7846e+01,  4.9304e+00,  8.7807e-01,  1.5047e+00,\n",
            "          1.6372e+00, -1.0000e+09, -1.0000e+09],\n",
            "        [-1.4832e+00,  4.9304e+00,  2.6831e+01,  3.9618e+00,  2.1587e+00,\n",
            "          3.5587e+00, -1.0000e+09, -1.0000e+09],\n",
            "        [-2.8843e+00,  8.7807e-01,  3.9618e+00,  2.7904e+01,  1.6892e+00,\n",
            "          4.0453e+00, -1.0000e+09, -1.0000e+09],\n",
            "        [-1.2542e+00,  1.5047e+00,  2.1587e+00,  1.6892e+00,  3.2076e+01,\n",
            "          4.0136e+00, -1.0000e+09, -1.0000e+09],\n",
            "        [ 8.3138e-01,  1.6372e+00,  3.5587e+00,  4.0453e+00,  4.0136e+00,\n",
            "          3.8098e+01, -1.0000e+09, -1.0000e+09],\n",
            "        [-5.7174e+00,  5.5846e-01,  3.0447e+00,  4.7429e+00, -1.1263e+00,\n",
            "         -2.7216e+00, -1.0000e+09, -1.0000e+09],\n",
            "        [-5.7174e+00,  5.5846e-01,  3.0447e+00,  4.7429e+00, -1.1263e+00,\n",
            "         -2.7216e+00, -1.0000e+09, -1.0000e+09]], grad_fn=<SelectBackward>)\n"
          ]
        }
      ],
      "source": [
        "scores.masked_fill_(attn_mask, -1e9)\n",
        "print(scores.size())\n",
        "print(scores[0])"
      ]
    },
    {
      "cell_type": "markdown",
      "metadata": {
        "colab_type": "text",
        "id": "GaAzVRmhBJ3B"
      },
      "source": [
        "###### Softmax"
      ]
    },
    {
      "cell_type": "code",
      "execution_count": null,
      "metadata": {
        "colab": {
          "base_uri": "https://localhost:8080/",
          "height": 306
        },
        "colab_type": "code",
        "id": "HKl9riPRxqkj",
        "outputId": "85f1d9ab-ccfe-4f2a-c07e-ad32fb84713e"
      },
      "outputs": [
        {
          "name": "stdout",
          "output_type": "stream",
          "text": [
            "torch.Size([2, 8, 8])\n",
            "tensor([[1.0000e+00, 2.1033e-14, 5.5176e-15, 1.3591e-15, 6.9378e-15, 5.5841e-14,\n",
            "         0.0000e+00, 0.0000e+00],\n",
            "        [6.9763e-13, 1.0000e+00, 1.1165e-10, 1.9407e-12, 3.6318e-12, 4.1463e-12,\n",
            "         0.0000e+00, 0.0000e+00],\n",
            "        [5.0487e-13, 3.0802e-10, 1.0000e+00, 1.1693e-10, 1.9268e-11, 7.8133e-11,\n",
            "         0.0000e+00, 0.0000e+00],\n",
            "        [4.2551e-14, 1.8319e-12, 4.0010e-11, 1.0000e+00, 4.1224e-12, 4.3491e-11,\n",
            "         0.0000e+00, 0.0000e+00],\n",
            "        [3.3480e-15, 5.2839e-14, 1.0162e-13, 6.3540e-14, 1.0000e+00, 6.4945e-13,\n",
            "         0.0000e+00, 0.0000e+00],\n",
            "        [6.5344e-17, 1.4628e-16, 9.9921e-16, 1.6255e-15, 1.5748e-15, 1.0000e+00,\n",
            "         0.0000e+00, 0.0000e+00],\n",
            "        [2.3843e-05, 1.2675e-02, 1.5230e-01, 8.3218e-01, 2.3510e-03, 4.7689e-04,\n",
            "         0.0000e+00, 0.0000e+00],\n",
            "        [2.3843e-05, 1.2675e-02, 1.5230e-01, 8.3218e-01, 2.3510e-03, 4.7689e-04,\n",
            "         0.0000e+00, 0.0000e+00]], grad_fn=<SelectBackward>)\n"
          ]
        }
      ],
      "source": [
        "attn_prob = nn.Softmax(dim=-1)(scores)\n",
        "print(attn_prob.size())\n",
        "print(attn_prob[0])"
      ]
    },
    {
      "cell_type": "markdown",
      "metadata": {
        "colab_type": "text",
        "id": "h-MwaJ1oBNOe"
      },
      "source": [
        "###### atten_prov * V"
      ]
    },
    {
      "cell_type": "code",
      "execution_count": null,
      "metadata": {
        "colab": {
          "base_uri": "https://localhost:8080/",
          "height": 34
        },
        "colab_type": "code",
        "id": "P2aRJH-Rxyq8",
        "outputId": "10567189-7867-41ed-fde5-a45e24a8152c"
      },
      "outputs": [
        {
          "name": "stdout",
          "output_type": "stream",
          "text": [
            "torch.Size([2, 8, 128])\n"
          ]
        }
      ],
      "source": [
        "context = torch.matmul(attn_prob, V)\n",
        "print(context.size())"
      ]
    },
    {
      "cell_type": "markdown",
      "metadata": {
        "colab_type": "text",
        "id": "WR0Wh1ORBRJK"
      },
      "source": [
        "###### Implementation Class"
      ]
    },
    {
      "cell_type": "code",
      "execution_count": null,
      "metadata": {
        "colab": {},
        "colab_type": "code",
        "id": "EkXGHazDt1rb"
      },
      "outputs": [],
      "source": [
        "\"\"\" scale dot product attention \"\"\"\n",
        "class ScaledDotProductAttention(nn.Module):\n",
        "    def __init__(self, d_head):\n",
        "        super().__init__()\n",
        "        self.scale = 1 / (d_head ** 0.5)\n",
        "    \n",
        "    def forward(self, Q, K, V, attn_mask):\n",
        "        # (bs, n_head, n_q_seq, n_k_seq)\n",
        "        scores = torch.matmul(Q, K.transpose(-1, -2)).mul_(self.scale)\n",
        "        scores.masked_fill_(attn_mask, -1e9)\n",
        "        # (bs, n_head, n_q_seq, n_k_seq)\n",
        "        attn_prob = nn.Softmax(dim=-1)(scores)\n",
        "        # (bs, n_head, n_q_seq, d_v)\n",
        "        context = torch.matmul(attn_prob, V)\n",
        "        # (bs, n_head, n_q_seq, d_v), (bs, n_head, n_q_seq, n_v_seq)\n",
        "        return context, attn_prob"
      ]
    },
    {
      "cell_type": "markdown",
      "metadata": {
        "colab_type": "text",
        "id": "yK38SMqGsiXL"
      },
      "source": [
        "#### 7. Multi-Head Attention\n",
        "\n",
        "![](https://raw.githubusercontent.com/paul-hyun/paul-hyun.github.io/master/assets/2019-12-19/multi_head_attention.png)"
      ]
    },
    {
      "cell_type": "markdown",
      "metadata": {
        "colab_type": "text",
        "id": "i7F4mEgmBjuw"
      },
      "source": [
        "###### Input"
      ]
    },
    {
      "cell_type": "code",
      "execution_count": null,
      "metadata": {
        "colab": {},
        "colab_type": "code",
        "id": "rZyMvxiathB-"
      },
      "outputs": [],
      "source": [
        "Q = input_sums\n",
        "K = input_sums\n",
        "V = input_sums\n",
        "attn_mask = inputs.eq(0).unsqueeze(1).expand(Q.size(0), Q.size(1), K.size(1))\n",
        "\n",
        "batch_size = Q.size(0)\n",
        "n_head = 2"
      ]
    },
    {
      "cell_type": "markdown",
      "metadata": {
        "colab_type": "text",
        "id": "Mly3n1YcBnR7"
      },
      "source": [
        "###### Multi Head Q, K, V"
      ]
    },
    {
      "cell_type": "code",
      "execution_count": null,
      "metadata": {
        "colab": {
          "base_uri": "https://localhost:8080/",
          "height": 68
        },
        "colab_type": "code",
        "id": "Pes5Jait2EXR",
        "outputId": "c527de1b-b28a-4885-ee72-3d980632223b"
      },
      "outputs": [
        {
          "name": "stdout",
          "output_type": "stream",
          "text": [
            "torch.Size([2, 8, 128])\n",
            "torch.Size([2, 8, 2, 64])\n",
            "torch.Size([2, 2, 8, 64])\n"
          ]
        }
      ],
      "source": [
        "W_Q = nn.Linear(d_hidn, n_head * d_head)\n",
        "W_K = nn.Linear(d_hidn, n_head * d_head)\n",
        "W_V = nn.Linear(d_hidn, n_head * d_head)\n",
        "\n",
        "# (bs, n_seq, n_head * d_head)\n",
        "q_s = W_Q(Q)\n",
        "print(q_s.size())\n",
        "# (bs, n_seq, n_head, d_head)\n",
        "q_s = q_s.view(batch_size, -1, n_head, d_head)\n",
        "print(q_s.size())\n",
        "# (bs, n_head, n_seq, d_head)\n",
        "q_s = q_s.transpose(1,2)\n",
        "print(q_s.size())"
      ]
    },
    {
      "cell_type": "code",
      "execution_count": null,
      "metadata": {
        "colab": {
          "base_uri": "https://localhost:8080/",
          "height": 34
        },
        "colab_type": "code",
        "id": "oW9s0Oam3ZeG",
        "outputId": "ff64f15d-0c2f-487e-e45b-fbcb793b87f8"
      },
      "outputs": [
        {
          "name": "stdout",
          "output_type": "stream",
          "text": [
            "torch.Size([2, 2, 8, 64]) torch.Size([2, 2, 8, 64]) torch.Size([2, 2, 8, 64])\n"
          ]
        }
      ],
      "source": [
        "# (bs, n_head, n_seq, d_head)\n",
        "q_s = W_Q(Q).view(batch_size, -1, n_head, d_head).transpose(1,2)\n",
        "# (bs, n_head, n_seq, d_head)\n",
        "k_s = W_K(K).view(batch_size, -1, n_head, d_head).transpose(1,2)\n",
        "# (bs, n_head, n_seq, d_head)\n",
        "v_s = W_V(V).view(batch_size, -1, n_head, d_head).transpose(1,2)\n",
        "print(q_s.size(), k_s.size(), v_s.size())"
      ]
    },
    {
      "cell_type": "markdown",
      "metadata": {
        "colab_type": "text",
        "id": "u73qrnhfBsYR"
      },
      "source": [
        "###### Multi Head Attention Mask"
      ]
    },
    {
      "cell_type": "code",
      "execution_count": null,
      "metadata": {
        "colab": {
          "base_uri": "https://localhost:8080/",
          "height": 51
        },
        "colab_type": "code",
        "id": "n9ItmgzN32fr",
        "outputId": "1f32a3d3-a145-4671-c15d-a10635608777"
      },
      "outputs": [
        {
          "name": "stdout",
          "output_type": "stream",
          "text": [
            "torch.Size([2, 8, 8])\n",
            "torch.Size([2, 2, 8, 8])\n"
          ]
        }
      ],
      "source": [
        "print(attn_mask.size())\n",
        "attn_mask = attn_mask.unsqueeze(1).repeat(1, n_head, 1, 1)\n",
        "print(attn_mask.size())"
      ]
    },
    {
      "cell_type": "markdown",
      "metadata": {
        "colab_type": "text",
        "id": "ubh168SyBxnw"
      },
      "source": [
        "###### Attention"
      ]
    },
    {
      "cell_type": "code",
      "execution_count": null,
      "metadata": {
        "colab": {
          "base_uri": "https://localhost:8080/",
          "height": 51
        },
        "colab_type": "code",
        "id": "ufWp4KXo6yyi",
        "outputId": "52021897-5830-42e7-d407-fd5b2dff8876"
      },
      "outputs": [
        {
          "name": "stdout",
          "output_type": "stream",
          "text": [
            "torch.Size([2, 2, 8, 64])\n",
            "torch.Size([2, 2, 8, 8])\n"
          ]
        }
      ],
      "source": [
        "scaled_dot_attn = ScaledDotProductAttention(d_head)\n",
        "context, attn_prob = scaled_dot_attn(q_s, k_s, v_s, attn_mask)\n",
        "print(context.size())\n",
        "print(attn_prob.size())"
      ]
    },
    {
      "cell_type": "markdown",
      "metadata": {
        "colab_type": "text",
        "id": "0zRmgcEfB1lM"
      },
      "source": [
        "###### Concat"
      ]
    },
    {
      "cell_type": "code",
      "execution_count": null,
      "metadata": {
        "colab": {
          "base_uri": "https://localhost:8080/",
          "height": 34
        },
        "colab_type": "code",
        "id": "EjQQPFsn7U8q",
        "outputId": "a3ac5624-652d-46bc-b5e3-b98f37b949e8"
      },
      "outputs": [
        {
          "name": "stdout",
          "output_type": "stream",
          "text": [
            "torch.Size([2, 8, 128])\n"
          ]
        }
      ],
      "source": [
        "# (bs, n_seq, n_head * d_head)\n",
        "context = context.transpose(1, 2).contiguous().view(batch_size, -1, n_head * d_head)\n",
        "print(context.size())"
      ]
    },
    {
      "cell_type": "markdown",
      "metadata": {
        "colab_type": "text",
        "id": "6bxvZK6uB4WS"
      },
      "source": [
        "###### Linear"
      ]
    },
    {
      "cell_type": "code",
      "execution_count": null,
      "metadata": {
        "colab": {
          "base_uri": "https://localhost:8080/",
          "height": 34
        },
        "colab_type": "code",
        "id": "kz3C9ABv7st1",
        "outputId": "d0ad361d-e594-409e-e3d6-29ecf84a110b"
      },
      "outputs": [
        {
          "name": "stdout",
          "output_type": "stream",
          "text": [
            "torch.Size([2, 8, 128])\n"
          ]
        }
      ],
      "source": [
        "linear = nn.Linear(n_head * d_head, d_hidn)\n",
        "# (bs, n_seq, d_hidn)\n",
        "output = linear(context)\n",
        "print(output.size())"
      ]
    },
    {
      "cell_type": "markdown",
      "metadata": {
        "colab_type": "text",
        "id": "wwcq-wgvB8Hq"
      },
      "source": [
        "###### Implementation Class"
      ]
    },
    {
      "cell_type": "code",
      "execution_count": null,
      "metadata": {
        "colab": {},
        "colab_type": "code",
        "id": "pVQZieaCB7xp"
      },
      "outputs": [],
      "source": [
        "\"\"\" multi head attention \"\"\"\n",
        "class MultiHeadAttention(nn.Module):\n",
        "    def __init__(self, d_hidn, n_head, d_head):\n",
        "        super().__init__()\n",
        "        self.d_hidn = d_hidn\n",
        "        self.n_head = n_head\n",
        "        self.d_head = d_head\n",
        "\n",
        "        self.W_Q = nn.Linear(d_hidn, n_head * d_head)\n",
        "        self.W_K = nn.Linear(d_hidn, n_head * d_head)\n",
        "        self.W_V = nn.Linear(d_hidn, n_head * d_head)\n",
        "        self.scaled_dot_attn = ScaledDotProductAttention(d_head)\n",
        "        self.linear = nn.Linear(n_head * d_head, d_hidn)\n",
        "    \n",
        "    def forward(self, Q, K, V, attn_mask):\n",
        "        batch_size = Q.size(0)\n",
        "        # (bs, n_head, n_q_seq, d_head)\n",
        "        q_s = self.W_Q(Q).view(batch_size, -1, self.n_head, self.d_head).transpose(1,2)\n",
        "        # (bs, n_head, n_k_seq, d_head)\n",
        "        k_s = self.W_K(K).view(batch_size, -1, self.n_head, self.d_head).transpose(1,2)\n",
        "        # (bs, n_head, n_v_seq, d_head)\n",
        "        v_s = self.W_V(V).view(batch_size, -1, self.n_head, self.d_head).transpose(1,2)\n",
        "\n",
        "        # (bs, n_head, n_q_seq, n_k_seq)\n",
        "        attn_mask = attn_mask.unsqueeze(1).repeat(1, self.n_head, 1, 1)\n",
        "\n",
        "        # (bs, n_head, n_q_seq, d_head), (bs, n_head, n_q_seq, n_k_seq)\n",
        "        context, attn_prob = self.scaled_dot_attn(q_s, k_s, v_s, attn_mask)\n",
        "        # (bs, n_head, n_q_seq, h_head * d_head)\n",
        "        context = context.transpose(1, 2).contiguous().view(batch_size, -1, self.n_head * self.d_head)\n",
        "        # (bs, n_head, n_q_seq, e_embd)\n",
        "        output = self.linear(context)\n",
        "        # (bs, n_q_seq, d_hidn), (bs, n_head, n_q_seq, n_k_seq)\n",
        "        return output, attn_prob"
      ]
    },
    {
      "cell_type": "markdown",
      "metadata": {
        "colab_type": "text",
        "id": "4O7PH-v-SA9B"
      },
      "source": [
        "#### 8. Masked Multi Head Attention"
      ]
    },
    {
      "cell_type": "code",
      "execution_count": null,
      "metadata": {
        "colab": {
          "base_uri": "https://localhost:8080/",
          "height": 425
        },
        "colab_type": "code",
        "id": "sg1uvsXJSAJE",
        "outputId": "d4bcd74c-7bb5-439b-bf71-2594cd4d850a"
      },
      "outputs": [
        {
          "name": "stdout",
          "output_type": "stream",
          "text": [
            "tensor([[False, False, False, False, False, False,  True,  True],\n",
            "        [False, False, False, False, False, False,  True,  True],\n",
            "        [False, False, False, False, False, False,  True,  True],\n",
            "        [False, False, False, False, False, False,  True,  True],\n",
            "        [False, False, False, False, False, False,  True,  True],\n",
            "        [False, False, False, False, False, False,  True,  True],\n",
            "        [False, False, False, False, False, False,  True,  True],\n",
            "        [False, False, False, False, False, False,  True,  True]])\n",
            "tensor([[0, 1, 1, 1, 1, 1, 1, 1],\n",
            "        [0, 0, 1, 1, 1, 1, 1, 1],\n",
            "        [0, 0, 0, 1, 1, 1, 1, 1],\n",
            "        [0, 0, 0, 0, 1, 1, 1, 1],\n",
            "        [0, 0, 0, 0, 0, 1, 1, 1],\n",
            "        [0, 0, 0, 0, 0, 0, 1, 1],\n",
            "        [0, 0, 0, 0, 0, 0, 0, 1],\n",
            "        [0, 0, 0, 0, 0, 0, 0, 0]])\n",
            "tensor([[False,  True,  True,  True,  True,  True,  True,  True],\n",
            "        [False, False,  True,  True,  True,  True,  True,  True],\n",
            "        [False, False, False,  True,  True,  True,  True,  True],\n",
            "        [False, False, False, False,  True,  True,  True,  True],\n",
            "        [False, False, False, False, False,  True,  True,  True],\n",
            "        [False, False, False, False, False, False,  True,  True],\n",
            "        [False, False, False, False, False, False,  True,  True],\n",
            "        [False, False, False, False, False, False,  True,  True]])\n"
          ]
        }
      ],
      "source": [
        "\"\"\" attention decoder mask \"\"\"\n",
        "def get_attn_decoder_mask(seq):\n",
        "    subsequent_mask = torch.ones_like(seq).unsqueeze(-1).expand(seq.size(0), seq.size(1), seq.size(1))\n",
        "    subsequent_mask = subsequent_mask.triu(diagonal=1) # upper triangular part of a matrix(2-D)\n",
        "    return subsequent_mask\n",
        "\n",
        "\n",
        "Q = input_sums\n",
        "K = input_sums\n",
        "V = input_sums\n",
        "\n",
        "attn_pad_mask = inputs.eq(0).unsqueeze(1).expand(Q.size(0), Q.size(1), K.size(1))\n",
        "print(attn_pad_mask[0])\n",
        "attn_dec_mask = get_attn_decoder_mask(inputs)\n",
        "print(attn_dec_mask[0])\n",
        "attn_mask = torch.gt((attn_pad_mask + attn_dec_mask), 0)\n",
        "print(attn_mask[0])\n",
        "\n",
        "batch_size = Q.size(0)\n",
        "n_head = 2"
      ]
    },
    {
      "cell_type": "code",
      "execution_count": null,
      "metadata": {
        "colab": {
          "base_uri": "https://localhost:8080/",
          "height": 34
        },
        "colab_type": "code",
        "id": "-YdCqAETUSzv",
        "outputId": "c927ad28-8967-4fc8-c614-6324467fa053"
      },
      "outputs": [
        {
          "name": "stdout",
          "output_type": "stream",
          "text": [
            "torch.Size([2, 8, 128]) torch.Size([2, 2, 8, 8])\n"
          ]
        }
      ],
      "source": [
        "attention = MultiHeadAttention(d_hidn, n_head, d_head)\n",
        "output, attn_prob = attention(Q, K, V, attn_mask)\n",
        "print(output.size(), attn_prob.size())"
      ]
    },
    {
      "cell_type": "markdown",
      "metadata": {
        "colab_type": "text",
        "id": "xPiW76dzGy8D"
      },
      "source": [
        "#### 9. Feed Forward\n",
        "\n",
        "![](https://raw.githubusercontent.com/paul-hyun/paul-hyun.github.io/master/assets/2019-12-19/feed-forward.png)"
      ]
    },
    {
      "cell_type": "markdown",
      "metadata": {
        "colab_type": "text",
        "id": "nLWqtn7UHGz-"
      },
      "source": [
        "###### f1 (Liear)"
      ]
    },
    {
      "cell_type": "code",
      "execution_count": null,
      "metadata": {
        "colab": {
          "base_uri": "https://localhost:8080/",
          "height": 34
        },
        "colab_type": "code",
        "id": "U0iAPIfCHGaa",
        "outputId": "484ee583-3dc9-4401-9007-6f4c79c8cb7f"
      },
      "outputs": [
        {
          "name": "stdout",
          "output_type": "stream",
          "text": [
            "torch.Size([2, 512, 8])\n"
          ]
        }
      ],
      "source": [
        "conv1 = nn.Conv1d(in_channels=d_hidn, out_channels=d_hidn * 4, kernel_size=1)\n",
        "# (bs, d_hidn * 4, n_seq)\n",
        "ff_1 = conv1(output.transpose(1, 2))\n",
        "print(ff_1.size())"
      ]
    },
    {
      "cell_type": "markdown",
      "metadata": {
        "colab_type": "text",
        "id": "ezEDjlVtIqf0"
      },
      "source": [
        "###### Activation (relu or gelu)\n",
        "\n",
        "![](https://raw.githubusercontent.com/paul-hyun/paul-hyun.github.io/master/assets/2019-12-19/activation.png)"
      ]
    },
    {
      "cell_type": "code",
      "execution_count": null,
      "metadata": {
        "colab": {},
        "colab_type": "code",
        "id": "x7mTDJZiIOrL"
      },
      "outputs": [],
      "source": [
        "# active = F.relu\n",
        "active = F.gelu\n",
        "ff_2 = active(ff_1)"
      ]
    },
    {
      "cell_type": "markdown",
      "metadata": {
        "colab_type": "text",
        "id": "fAcrKhAtIvn5"
      },
      "source": [
        "###### f3 (Liear)"
      ]
    },
    {
      "cell_type": "code",
      "execution_count": null,
      "metadata": {
        "colab": {
          "base_uri": "https://localhost:8080/",
          "height": 34
        },
        "colab_type": "code",
        "id": "xGRsfIOcOgLR",
        "outputId": "427c31fb-2691-4524-f382-c0294143286c"
      },
      "outputs": [
        {
          "name": "stdout",
          "output_type": "stream",
          "text": [
            "torch.Size([2, 8, 128])\n"
          ]
        }
      ],
      "source": [
        "conv2 = nn.Conv1d(in_channels=d_hidn * 4, out_channels=d_hidn, kernel_size=1)\n",
        "ff_3 = conv2(ff_2).transpose(1, 2)\n",
        "print(ff_3.size())"
      ]
    },
    {
      "cell_type": "markdown",
      "metadata": {
        "colab_type": "text",
        "id": "sE6-A3OhIzLo"
      },
      "source": [
        "###### Implementation Class"
      ]
    },
    {
      "cell_type": "code",
      "execution_count": null,
      "metadata": {
        "colab": {},
        "colab_type": "code",
        "id": "TaRkgC4CRs60"
      },
      "outputs": [],
      "source": [
        "\"\"\" feed forward \"\"\"\n",
        "class PoswiseFeedForwardNet(nn.Module):\n",
        "    def __init__(self, d_hidn):\n",
        "        super().__init__()\n",
        "\n",
        "        self.conv1 = nn.Conv1d(in_channels=self.config.d_hidn, out_channels=self.config.d_hidn * 4, kernel_size=1)\n",
        "        self.conv2 = nn.Conv1d(in_channels=self.config.d_hidn * 4, out_channels=self.config.d_hidn, kernel_size=1)\n",
        "        self.active = F.gelu\n",
        "\n",
        "    def forward(self, inputs):\n",
        "        # (bs, d_ff, n_seq)\n",
        "        output = self.active(self.conv1(inputs.transpose(1, 2)))\n",
        "        # (bs, n_seq, d_hidn)\n",
        "        output = self.conv2(output).transpose(1, 2)\n",
        "        # (bs, n_seq, d_hidn)\n",
        "        return output"
      ]
    }
  ],
  "metadata": {
    "accelerator": "GPU",
    "colab": {
      "collapsed_sections": [],
      "name": "transformer-01.ipynb",
      "provenance": []
    },
    "kernelspec": {
      "display_name": "Python 3",
      "name": "python3"
    },
    "language_info": {
      "codemirror_mode": {
        "name": "ipython",
        "version": 3
      },
      "file_extension": ".py",
      "mimetype": "text/x-python",
      "name": "python",
      "nbconvert_exporter": "python",
      "pygments_lexer": "ipython3",
      "version": "3.8.12"
    }
  },
  "nbformat": 4,
  "nbformat_minor": 0
}
